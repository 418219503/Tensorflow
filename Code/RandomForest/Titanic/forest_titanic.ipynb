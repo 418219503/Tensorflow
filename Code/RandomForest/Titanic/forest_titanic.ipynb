{
 "cells": [
  {
   "cell_type": "code",
   "execution_count": 1,
   "metadata": {},
   "outputs": [],
   "source": [
    "import numpy as np\n",
    "import math\n",
    "import pandas as pd\n",
    "from numpy import nan\n",
    "import tensorflow as tf"
   ]
  },
  {
   "cell_type": "code",
   "execution_count": 2,
   "metadata": {},
   "outputs": [
    {
     "name": "stdout",
     "output_type": "stream",
     "text": [
      "--------load train & test file------\n",
      "(891, 12)\n",
      "(418, 11)\n",
      "------finish loading --------------------\n"
     ]
    }
   ],
   "source": [
    "#从CSV文件中获取数据\n",
    "print('--------load train & test file------')\n",
    "# 获取训练数据\n",
    "train_dataset = pd.read_csv('titanicData/train_titanic.csv')\n",
    "print(train_dataset.shape)\n",
    "train_dataset = train_dataset.as_matrix()\n",
    "\n",
    "#获取测试数据\n",
    "test_dataset = pd.read_csv('titanicData/test_titanic.csv')\n",
    "print(test_dataset.shape)\n",
    "test_dataset = test_dataset.as_matrix()\n",
    "\n",
    "print(\"------finish loading --------------------\")"
   ]
  },
  {
   "cell_type": "code",
   "execution_count": 3,
   "metadata": {},
   "outputs": [
    {
     "name": "stdout",
     "output_type": "stream",
     "text": [
      "finish shuffling the data\n",
      "('Number of all features:', 891)\n"
     ]
    }
   ],
   "source": [
    "#打乱原有的数据集，避免多次训练过拟合\n",
    "from sklearn.utils import shuffle\n",
    "train_dataset = shuffle(train_dataset)\n",
    "print ('finish shuffling the data')\n",
    "\n",
    "# Holdout ( 2/3 to 1/3 )\n",
    "num_features = train_dataset.shape[0] # number of features\n",
    "print(\"Number of all features:\", num_features)\n",
    "split = int(num_features * 2/3)\n",
    "\n",
    "train = train_dataset[:split]\n",
    "test = train_dataset[split:]\n"
   ]
  },
  {
   "cell_type": "code",
   "execution_count": 4,
   "metadata": {},
   "outputs": [],
   "source": [
    "def average(data):\n",
    "    print(\"data len:\",len(data))\n",
    "    sum = 0\n",
    "    for i in range(len(data)):\n",
    "        if(math.isnan(data[i])):\n",
    "            continue\n",
    "        sum += data[i]\n",
    "    return sum/len(data)"
   ]
  },
  {
   "cell_type": "code",
   "execution_count": 5,
   "metadata": {},
   "outputs": [
    {
     "name": "stdout",
     "output_type": "stream",
     "text": [
      "('train_labels:', (594, 1))\n",
      "('train_data:', (594, 10))\n",
      "('test_labels:', (297, 1))\n",
      "('test_data:', (297, 10))\n"
     ]
    }
   ],
   "source": [
    "#python切片操作,[x:y,m:n],表示矩阵x~y行，m~n列区间\n",
    "#获取标签数据\n",
    "train_labels = train[: ,1:2]\n",
    "#获取图像像素数据\n",
    "train_data = train[: ,2:]\n",
    "\n",
    "test_labels = test[: ,1:2]\n",
    "test_data = test[: ,2:]\n",
    "\n",
    "print(\"train_labels:\",train_labels.shape)\n",
    "print(\"train_data:\",train_data.shape)\n",
    "print(\"test_labels:\",test_labels.shape)\n",
    "print(\"test_data:\",test_data.shape)"
   ]
  },
  {
   "cell_type": "code",
   "execution_count": 6,
   "metadata": {},
   "outputs": [],
   "source": [
    "def getData(train):\n",
    "    average_age = average(train[:,3].reshape(-1))\n",
    "    average_fare = average(train[:,7].reshape(-1))\n",
    "    print(\"average age:\",average_age)\n",
    "    print(\"input:\",train.shape)\n",
    "    for index in range(train.shape[0]):\n",
    "        #sex\n",
    "        if(train[index,2] == 'male'):\n",
    "            train[index,2] = 1\n",
    "        elif(train[index,2] == 'female'):\n",
    "            train[index,2] = 0\n",
    "        else:\n",
    "            train[index,2] = 2\n",
    "    \n",
    "        train[index,1] = 2\n",
    "            \n",
    "        #Embarked\n",
    "        if(train[index,9] == 'C'):\n",
    "            train[index,9] = 0\n",
    "        elif(train[index,9] == 'Q'):\n",
    "            train[index,9] = 1\n",
    "        elif(train[index,9] == 'S'):\n",
    "            train[index,9] = 2\n",
    "        else:\n",
    "            train[index,9] = 0\n",
    "\n",
    "        #Age\n",
    "        if(math.isnan(train[index,3]) or train[index,3] == ''):\n",
    "            train[index,3] = average_age\n",
    "#         if(train[index,3] <= 12):\n",
    "#             train[index,3] = 0\n",
    "#         elif(train[index,3] <= 40):\n",
    "#             train[index,3] = 1\n",
    "#         elif(train[index,3] <= 65):\n",
    "#             train[index,3] = 2\n",
    "#         else:\n",
    "#             train[index,3] = 3\n",
    "\n",
    "        #Fare\n",
    "        if(math.isnan(train[index,7]) or train[index,7] == ''):\n",
    "            train[index,7] = average_fare\n",
    "#         if(train[index,7] <= 7):\n",
    "#             train[index,7] = 0\n",
    "#         elif(train[index,7] <= 20):\n",
    "#             train[index,7] = 1\n",
    "#         elif(train[index,7] <= 50):\n",
    "#             train[index,7] = 2\n",
    "#         else:\n",
    "#             train[index,7] = 3\n",
    "            \n",
    "        #Cabin\n",
    "        if(isinstance(train[index,8],str) == False):\n",
    "            train[index,8] = 0\n",
    "        elif('A' in train[index,8] or 'a' in train[index,8]):\n",
    "            train[index,8] = 1\n",
    "        elif('B' in train[index,8] or 'b' in train[index,8]):\n",
    "            train[index,8] = 2\n",
    "        elif('C' in train[index,8] or 'c' in train[index,8]):\n",
    "            train[index,8] = 3\n",
    "        elif('D' in train[index,8] or 'd' in train[index,8]):\n",
    "            train[index,8] = 4\n",
    "        elif('E' in train[index,8] or 'e' in train[index,8]):\n",
    "            train[index,8] = 5\n",
    "        elif('F' in train[index,8] or 'f' in train[index,8]):\n",
    "            train[index,8] = 6\n",
    "        else:\n",
    "            train[index,8] = 0\n",
    "#         print(train[index,8],\"========\",isinstance(train[index,8],str))\n",
    "        \n",
    "\n",
    "#     train = train[:,[0,2,3,4,5,7,8,9]]\n",
    "    train = train[:,[0,1,2,3,4,5,7,8,9]]\n",
    "    print(\"output:\",train.shape)\n",
    "\n",
    "    return train"
   ]
  },
  {
   "cell_type": "code",
   "execution_count": 7,
   "metadata": {},
   "outputs": [
    {
     "name": "stdout",
     "output_type": "stream",
     "text": [
      "('data len:', 594)\n",
      "('data len:', 594)\n",
      "('average age:', 24.386228956228955)\n",
      "('input:', (594, 10))\n",
      "('output:', (594, 9))\n",
      "('data len:', 297)\n",
      "('data len:', 297)\n",
      "('average age:', 22.625420875420875)\n",
      "('input:', (297, 10))\n",
      "('output:', (297, 9))\n",
      "('The accuracy of the pure RandomForest classifier is:', 0.85185185185185186)\n"
     ]
    }
   ],
   "source": [
    "#训练数据训练\n",
    "from sklearn.ensemble import RandomForestClassifier\n",
    "\n",
    "train_data = getData(train_data)\n",
    "train_labels = train_labels[:,:].astype(int).ravel()\n",
    "test_data = getData(test_data)\n",
    "test_labels = test_labels[:,:].astype(int).ravel()\n",
    "    \n",
    "#RandomForestClassifier参数详解：http://blog.sina.com.cn/s/blog_a1f6697d0102w8ep.html\n",
    "#rnd_clf = RandomForestClassifier(n_estimators=100, max_leaf_nodes=2, n_jobs=-1, random_state=42)\n",
    "rnd_clf = RandomForestClassifier(criterion='gini', \n",
    "                             n_estimators=20,\n",
    "                             min_samples_split=16,\n",
    "                             min_samples_leaf=2,\n",
    "                             max_features='auto',\n",
    "                             oob_score=True,\n",
    "                             n_jobs=-1,\n",
    "                             random_state=50)\n",
    "\n",
    "rnd_clf.fit(train_data, train_labels)\n",
    "predict = rnd_clf.predict(test_data)\n",
    "\n",
    "predict = predict.reshape(-1)\n",
    "test_labels = test_labels.reshape(-1)\n",
    "\n",
    "# 计算准确度\n",
    "acc = np.mean(predict == test_labels) # calculate accuracy\n",
    "print(\"The accuracy of the pure RandomForest classifier is:\", acc)\n",
    "    "
   ]
  },
  {
   "cell_type": "code",
   "execution_count": 8,
   "metadata": {
    "scrolled": true
   },
   "outputs": [
    {
     "name": "stdout",
     "output_type": "stream",
     "text": [
      "('data len:', 418)\n",
      "('data len:', 418)\n",
      "('average age:', 24.044258373205743)\n",
      "('input:', (418, 10))\n",
      "('output:', (418, 9))\n",
      "(418,)\n",
      "('predict:', array([0, 0, 0, 0, 0, 0, 1, 0, 1, 0, 0, 0, 1, 0, 1, 1, 0, 0, 1, 0, 0, 0, 1,\n",
      "       0, 1, 0, 1, 0, 1, 0, 0, 0, 0, 0, 1, 0, 0, 0, 0, 0, 0, 1, 0, 1, 1, 0,\n",
      "       0, 0, 1, 1, 1, 0, 1, 1, 0, 0, 0, 0, 0, 1, 0, 0, 0, 1, 1, 1, 1, 0, 1,\n",
      "       1, 1, 0, 1, 1, 1, 1, 0, 1, 0, 1, 1, 0, 0, 0, 0, 0, 1, 0, 1, 1, 1, 0,\n",
      "       1, 0, 0, 0, 1, 0, 1, 0, 1, 0, 0, 0, 1, 0, 0, 0, 0, 1, 0, 1, 1, 1, 1,\n",
      "       0, 0, 1, 1, 1, 1, 0, 1, 0, 0, 1, 0, 1, 0, 0, 0, 0, 0, 0, 0, 0, 0, 0,\n",
      "       0, 0, 0, 1, 0, 0, 0, 0, 1, 0, 0, 0, 1, 0, 0, 0, 0, 0, 1, 1, 1, 0, 1,\n",
      "       0, 1, 0, 0, 0, 1, 0, 1, 0, 0, 0, 0, 0, 0, 1, 1, 0, 1, 1, 0, 1, 1, 0,\n",
      "       1, 0, 1, 0, 0, 0, 0, 0, 0, 0, 1, 0, 1, 1, 0, 0, 1, 1, 0, 1, 0, 0, 0,\n",
      "       0, 1, 0, 0, 0, 0, 1, 0, 1, 0, 0, 1, 0, 1, 0, 1, 0, 1, 1, 0, 1, 0, 0,\n",
      "       0, 1, 0, 0, 1, 0, 0, 0, 1, 1, 1, 1, 1, 0, 0, 1, 1, 0, 1, 0, 1, 0, 1,\n",
      "       0, 0, 0, 0, 0, 1, 0, 0, 0, 1, 1, 0, 0, 0, 0, 0, 0, 0, 0, 1, 1, 0, 1,\n",
      "       0, 0, 0, 0, 0, 1, 1, 0, 1, 0, 0, 1, 0, 0, 0, 1, 0, 0, 0, 0, 1, 0, 0,\n",
      "       0, 0, 1, 0, 0, 1, 1, 1, 1, 0, 0, 0, 0, 0, 0, 1, 1, 1, 0, 0, 0, 0, 0,\n",
      "       1, 0, 1, 0, 1, 0, 0, 0, 1, 1, 0, 1, 0, 1, 0, 0, 0, 0, 0, 0, 0, 1, 0,\n",
      "       1, 0, 0, 0, 1, 1, 0, 0, 0, 1, 0, 1, 0, 0, 1, 0, 1, 1, 0, 1, 0, 0, 1,\n",
      "       1, 0, 0, 1, 0, 0, 1, 1, 0, 0, 0, 0, 0, 0, 1, 1, 0, 1, 0, 0, 0, 0, 1,\n",
      "       1, 0, 0, 0, 1, 0, 1, 0, 0, 1, 0, 1, 0, 1, 1, 0, 0, 1, 1, 1, 1, 1, 0,\n",
      "       1, 0, 0, 0]))\n",
      "[892 893 894 895 896 897 898 899 900 901 902 903 904 905 906 907 908 909\n",
      " 910 911 912 913 914 915 916 917 918 919 920 921 922 923 924 925 926 927\n",
      " 928 929 930 931 932 933 934 935 936 937 938 939 940 941 942 943 944 945\n",
      " 946 947 948 949 950 951 952 953 954 955 956 957 958 959 960 961 962 963\n",
      " 964 965 966 967 968 969 970 971 972 973 974 975 976 977 978 979 980 981\n",
      " 982 983 984 985 986 987 988 989 990 991 992 993 994 995 996 997 998 999\n",
      " 1000 1001 1002 1003 1004 1005 1006 1007 1008 1009 1010 1011 1012 1013 1014\n",
      " 1015 1016 1017 1018 1019 1020 1021 1022 1023 1024 1025 1026 1027 1028 1029\n",
      " 1030 1031 1032 1033 1034 1035 1036 1037 1038 1039 1040 1041 1042 1043 1044\n",
      " 1045 1046 1047 1048 1049 1050 1051 1052 1053 1054 1055 1056 1057 1058 1059\n",
      " 1060 1061 1062 1063 1064 1065 1066 1067 1068 1069 1070 1071 1072 1073 1074\n",
      " 1075 1076 1077 1078 1079 1080 1081 1082 1083 1084 1085 1086 1087 1088 1089\n",
      " 1090 1091 1092 1093 1094 1095 1096 1097 1098 1099 1100 1101 1102 1103 1104\n",
      " 1105 1106 1107 1108 1109 1110 1111 1112 1113 1114 1115 1116 1117 1118 1119\n",
      " 1120 1121 1122 1123 1124 1125 1126 1127 1128 1129 1130 1131 1132 1133 1134\n",
      " 1135 1136 1137 1138 1139 1140 1141 1142 1143 1144 1145 1146 1147 1148 1149\n",
      " 1150 1151 1152 1153 1154 1155 1156 1157 1158 1159 1160 1161 1162 1163 1164\n",
      " 1165 1166 1167 1168 1169 1170 1171 1172 1173 1174 1175 1176 1177 1178 1179\n",
      " 1180 1181 1182 1183 1184 1185 1186 1187 1188 1189 1190 1191 1192 1193 1194\n",
      " 1195 1196 1197 1198 1199 1200 1201 1202 1203 1204 1205 1206 1207 1208 1209\n",
      " 1210 1211 1212 1213 1214 1215 1216 1217 1218 1219 1220 1221 1222 1223 1224\n",
      " 1225 1226 1227 1228 1229 1230 1231 1232 1233 1234 1235 1236 1237 1238 1239\n",
      " 1240 1241 1242 1243 1244 1245 1246 1247 1248 1249 1250 1251 1252 1253 1254\n",
      " 1255 1256 1257 1258 1259 1260 1261 1262 1263 1264 1265 1266 1267 1268 1269\n",
      " 1270 1271 1272 1273 1274 1275 1276 1277 1278 1279 1280 1281 1282 1283 1284\n",
      " 1285 1286 1287 1288 1289 1290 1291 1292 1293 1294 1295 1296 1297 1298 1299\n",
      " 1300 1301 1302 1303 1304 1305 1306 1307 1308 1309]\n"
     ]
    }
   ],
   "source": [
    "test_data = getData(test_dataset[:,1:])\n",
    "predict = rnd_clf.predict(test_data)\n",
    "print(predict.shape)\n",
    "print(\"predict:\",predict)\n",
    "print(test_dataset[:,0])\n",
    "np.savetxt('titanicData/gender_submission.csv', np.c_[test_dataset[:,0],predict], delimiter=',', header = 'PassengerId,Survived', comments = '', fmt='%d')"
   ]
  },
  {
   "cell_type": "code",
   "execution_count": null,
   "metadata": {},
   "outputs": [],
   "source": []
  }
 ],
 "metadata": {
  "kernelspec": {
   "display_name": "Python 3",
   "language": "python",
   "name": "python3"
  },
  "language_info": {
   "codemirror_mode": {
    "name": "ipython",
    "version": 2
   },
   "file_extension": ".py",
   "mimetype": "text/x-python",
   "name": "python",
   "nbconvert_exporter": "python",
   "pygments_lexer": "ipython2",
   "version": "2.7.12"
  }
 },
 "nbformat": 4,
 "nbformat_minor": 2
}
